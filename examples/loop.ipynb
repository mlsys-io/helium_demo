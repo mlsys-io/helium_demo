{
 "cells": [
  {
   "cell_type": "markdown",
   "metadata": {
    "vscode": {
     "languageId": "plaintext"
    }
   },
   "source": [
    "# Setup"
   ]
  },
  {
   "cell_type": "code",
   "execution_count": null,
   "metadata": {},
   "outputs": [],
   "source": [
    "import random\n",
    "import re\n",
    "import pprint\n",
    "\n",
    "import matplotlib.pyplot as plt\n",
    "\n",
    "from helium import helium, ops, graphs\n",
    "from helium.runtime import HeliumServerConfig\n",
    "\n",
    "# Use local Helium server. You cannot use remote Helium server for this example.\n",
    "server_config = HeliumServerConfig(\n",
    "    is_local=True, llm_service_configs=\"../configs/llm_services.json\"\n",
    ")"
   ]
  },
  {
   "cell_type": "code",
   "execution_count": null,
   "metadata": {},
   "outputs": [],
   "source": [
    "# Start the Helium server locally\n",
    "helium.get_started_instance(config=server_config)"
   ]
  },
  {
   "cell_type": "markdown",
   "metadata": {},
   "source": [
    "# Guessing game"
   ]
  },
  {
   "cell_type": "code",
   "execution_count": null,
   "metadata": {},
   "outputs": [],
   "source": [
    "def check_resp(inputs: tuple[ops.SingleDtype, ...]) -> str:\n",
    "    s, answer = inputs\n",
    "    assert isinstance(s, str) and isinstance(answer, str)\n",
    "    guess = re.search(r\"(\\d+)\", s)\n",
    "    if guess and int(answer) < int(guess.group()):\n",
    "        return \"high\"\n",
    "    return \"low\"\n",
    "\n",
    "\n",
    "def build_guessing_game_graph(\n",
    "    num_agents: int, num_iter: int\n",
    ") -> tuple[list[int], graphs.Graph]:\n",
    "    answers = random.choices(range(1, 101), k=num_agents)\n",
    "    answer_data = ops.data([str(i) for i in answers])\n",
    "    chat_instr = ops.message_data(\n",
    "        [\n",
    "            ops.OpMessage(role=\"system\", content=\"You are a helpful assistant.\"),\n",
    "            ops.OpMessage(\n",
    "                role=\"user\", content=[\"Guess a number between 1 and 100\"] * num_agents\n",
    "            ),\n",
    "        ]\n",
    "    )\n",
    "    llm_chat = ops.llm_chat(chat_instr, return_history=True)\n",
    "    llm_resp = ops.get_last_message(llm_chat)\n",
    "    check = ops.lambda_op([llm_resp, answer_data], check_resp)\n",
    "    new_msg = ops.format_op(\"Too {check}. Try again.\", check=check)\n",
    "    new_instr = ops.append_message(llm_chat, new_msg)\n",
    "\n",
    "    cmpl_prompt = ops.data(\"My name is\")\n",
    "    llm_cmpl = ops.llm_completion(cmpl_prompt, echo=True)\n",
    "\n",
    "    chat, _, cmpl = ops.loop(\n",
    "        [None, chat_instr, cmpl_prompt],\n",
    "        [llm_chat, new_instr, llm_cmpl],\n",
    "        num_iter=num_iter,\n",
    "    )\n",
    "\n",
    "    chat_out = ops.as_output(\"chat\", chat)\n",
    "    cmpl_out = ops.as_output(\"cmpl\", cmpl)\n",
    "\n",
    "    return answers, graphs.from_ops([chat_out, cmpl_out])"
   ]
  },
  {
   "cell_type": "code",
   "execution_count": null,
   "metadata": {},
   "outputs": [],
   "source": [
    "# Build the writing simulation graph\n",
    "answers, graph = build_guessing_game_graph(num_agents=5, num_iter=3)"
   ]
  },
  {
   "cell_type": "code",
   "execution_count": null,
   "metadata": {},
   "outputs": [],
   "source": [
    "# Visualize the graph\n",
    "plt.figure(figsize=(12, 12))\n",
    "_ = graph.visualize(layout=\"planar\")"
   ]
  },
  {
   "cell_type": "code",
   "execution_count": null,
   "metadata": {},
   "outputs": [],
   "source": [
    "# Execute the graph on the Helium server\n",
    "result = helium.invoke(graph)"
   ]
  },
  {
   "cell_type": "code",
   "execution_count": null,
   "metadata": {},
   "outputs": [],
   "source": [
    "# Print the results\n",
    "print(\"Answers:\", answers)\n",
    "pprint.pprint(result)"
   ]
  }
 ],
 "metadata": {
  "kernelspec": {
   "display_name": "dsma",
   "language": "python",
   "name": "python3"
  },
  "language_info": {
   "codemirror_mode": {
    "name": "ipython",
    "version": 3
   },
   "file_extension": ".py",
   "mimetype": "text/x-python",
   "name": "python",
   "nbconvert_exporter": "python",
   "pygments_lexer": "ipython3",
   "version": "3.11.11"
  }
 },
 "nbformat": 4,
 "nbformat_minor": 2
}
