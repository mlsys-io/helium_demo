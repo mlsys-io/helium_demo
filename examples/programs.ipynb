{
 "cells": [
  {
   "cell_type": "markdown",
   "metadata": {},
   "source": [
    "# Setup"
   ]
  },
  {
   "cell_type": "code",
   "execution_count": null,
   "metadata": {},
   "outputs": [],
   "source": [
    "from helium import helium\n",
    "from helium.frontend.programs.examples import MCQAProgram\n",
    "from helium.common import GenerationConfig\n",
    "from helium.runtime import HeliumServerConfig\n",
    "\n",
    "# Use local Helium server\n",
    "server_config = HeliumServerConfig(\n",
    "    is_local=True, llm_service_configs=\"../configs/llm_services.json\"\n",
    ")\n",
    "\n",
    "# Use remote Helium server\n",
    "# In this case, you need to start a Helium server in a separate process.\n",
    "# See scripts/serve_helium.sh for an example.\n",
    "# server_config = HeliumServerConfig(is_local=False)"
   ]
  },
  {
   "cell_type": "code",
   "execution_count": null,
   "metadata": {},
   "outputs": [],
   "source": [
    "# Start the Helium server locally\n",
    "helium.get_started_instance(config=server_config)"
   ]
  },
  {
   "cell_type": "markdown",
   "metadata": {},
   "source": [
    "# MCQA Program"
   ]
  },
  {
   "cell_type": "code",
   "execution_count": null,
   "metadata": {},
   "outputs": [],
   "source": [
    "generation_config = GenerationConfig.from_env(temperature=1.0)\n",
    "\n",
    "questions = [\"Which one can fly?\", \"Which one is a mammal?\"]\n",
    "choices = [[\"dog\", \"plane\", \"whale\"], [\"crocodile\", \"mug\", \"dolphin\"]]"
   ]
  },
  {
   "cell_type": "code",
   "execution_count": null,
   "metadata": {},
   "outputs": [],
   "source": [
    "program = MCQAProgram(\n",
    "    num_agents=100,\n",
    "    method=\"direct\",\n",
    "    generation_config=generation_config,\n",
    "    server_config=server_config,\n",
    ")\n",
    "await program.run_async(questions=questions, choices=choices)"
   ]
  },
  {
   "cell_type": "code",
   "execution_count": null,
   "metadata": {},
   "outputs": [],
   "source": [
    "program = MCQAProgram(\n",
    "    num_agents=100,\n",
    "    method=\"cot\",\n",
    "    generation_config=generation_config,\n",
    "    server_config=server_config,\n",
    ")\n",
    "await program.run_async(questions=questions, choices=choices)"
   ]
  }
 ],
 "metadata": {
  "kernelspec": {
   "display_name": "dsma",
   "language": "python",
   "name": "python3"
  },
  "language_info": {
   "codemirror_mode": {
    "name": "ipython",
    "version": 3
   },
   "file_extension": ".py",
   "mimetype": "text/x-python",
   "name": "python",
   "nbconvert_exporter": "python",
   "pygments_lexer": "ipython3",
   "version": "3.11.11"
  }
 },
 "nbformat": 4,
 "nbformat_minor": 2
}
