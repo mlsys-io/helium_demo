{
 "cells": [
  {
   "cell_type": "markdown",
   "metadata": {},
   "source": [
    "# Setup"
   ]
  },
  {
   "cell_type": "code",
   "execution_count": null,
   "metadata": {},
   "outputs": [],
   "source": [
    "import matplotlib.pyplot as plt\n",
    "\n",
    "from helium import helium\n",
    "from helium.common import GenerationConfig\n",
    "from helium.frontend.programs.examples import MCQAProgram\n",
    "from helium.runtime import HeliumServerConfig\n",
    "from helium.runtime.protocol import HeliumRequestConfig\n",
    "\n",
    "# Use local Helium server\n",
    "server_config = HeliumServerConfig(is_local=True, llm_service_configs=[])"
   ]
  },
  {
   "cell_type": "code",
   "execution_count": null,
   "metadata": {},
   "outputs": [],
   "source": [
    "# Get a Helium instance without starting the server\n",
    "server = helium.get_instance(config=server_config)"
   ]
  },
  {
   "cell_type": "markdown",
   "metadata": {},
   "source": [
    "# Graph optimization"
   ]
  },
  {
   "cell_type": "markdown",
   "metadata": {},
   "source": [
    "## Create a program agent"
   ]
  },
  {
   "cell_type": "code",
   "execution_count": null,
   "metadata": {},
   "outputs": [],
   "source": [
    "generation_config = GenerationConfig.from_env(temperature=1.0)\n",
    "mcqa_program = MCQAProgram(\n",
    "    num_agents=5,\n",
    "    method=\"cot\",\n",
    "    generation_config=generation_config,\n",
    "    server_config=server_config,\n",
    ")"
   ]
  },
  {
   "cell_type": "code",
   "execution_count": null,
   "metadata": {},
   "outputs": [],
   "source": [
    "# This is a composite agent embodying the compute graphs of individual agents\n",
    "agent = mcqa_program.create_program_agent(input_name=\"user_inputs\")"
   ]
  },
  {
   "cell_type": "markdown",
   "metadata": {},
   "source": [
    "## Original compute graph"
   ]
  },
  {
   "cell_type": "code",
   "execution_count": null,
   "metadata": {},
   "outputs": [],
   "source": [
    "plt.figure(figsize=(10, 10))\n",
    "agent.graph.visualize()\n",
    "print(\"The graph contains\", agent.graph.node_count, \"nodes.\")"
   ]
  },
  {
   "cell_type": "markdown",
   "metadata": {},
   "source": [
    "# Optimized compute graph"
   ]
  },
  {
   "cell_type": "code",
   "execution_count": null,
   "metadata": {},
   "outputs": [],
   "source": [
    "# 1. Compile the agent's compute graph\n",
    "agent.compile(user_inputs=[\"test\"])\n",
    "\n",
    "# 2. Optimize the compiled graph\n",
    "query = {\"graph\": agent.get_and_reset_compiled_graph()}\n",
    "optimized, _ = server.optimizer.optimize(query, HeliumRequestConfig())\n",
    "\n",
    "# 3. Plot the optimized graph\n",
    "plt.figure(figsize=(10, 10))\n",
    "graph = optimized.graph\n",
    "graph.visualize()\n",
    "print(\"The graph contains\", graph.node_count, \"nodes.\")"
   ]
  }
 ],
 "metadata": {
  "kernelspec": {
   "display_name": "dsma",
   "language": "python",
   "name": "python3"
  },
  "language_info": {
   "codemirror_mode": {
    "name": "ipython",
    "version": 3
   },
   "file_extension": ".py",
   "mimetype": "text/x-python",
   "name": "python",
   "nbconvert_exporter": "python",
   "pygments_lexer": "ipython3",
   "version": "3.11.11"
  }
 },
 "nbformat": 4,
 "nbformat_minor": 2
}
