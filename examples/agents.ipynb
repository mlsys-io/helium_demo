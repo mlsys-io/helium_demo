{
 "cells": [
  {
   "cell_type": "markdown",
   "metadata": {},
   "source": [
    "# Setup"
   ]
  },
  {
   "cell_type": "code",
   "execution_count": null,
   "metadata": {},
   "outputs": [],
   "source": [
    "from helium import helium\n",
    "from helium.frontend.agents.examples import ChatAgent, CompletionAgent\n",
    "from helium.runtime import HeliumServerConfig\n",
    "\n",
    "# Use local Helium server\n",
    "server_config = HeliumServerConfig(\n",
    "    is_local=True, llm_service_configs=\"../configs/llm_services.json\"\n",
    ")\n",
    "\n",
    "# Use remote Helium server\n",
    "# In this case, you need to start a Helium server in a separate process.\n",
    "# See scripts/serve_helium.sh for an example.\n",
    "# server_config = HeliumServerConfig(is_local=False)"
   ]
  },
  {
   "cell_type": "code",
   "execution_count": null,
   "metadata": {},
   "outputs": [],
   "source": [
    "# Start the Helium server locally\n",
    "helium.get_started_instance(config=server_config)"
   ]
  },
  {
   "cell_type": "markdown",
   "metadata": {},
   "source": [
    "# Chat Agent"
   ]
  },
  {
   "cell_type": "code",
   "execution_count": null,
   "metadata": {},
   "outputs": [],
   "source": [
    "agent = ChatAgent(\n",
    "    system_prompt=\"You are a helpful and funny assistant.\", server_config=server_config\n",
    ")\n",
    "response = await agent.run_async(\n",
    "    inputs=[\n",
    "        \"What is your name?\",\n",
    "        \"What do you like to eat?\",\n",
    "        \"What is the capital of the US?\",\n",
    "    ]\n",
    ")\n",
    "output = response.outputs"
   ]
  },
  {
   "cell_type": "code",
   "execution_count": null,
   "metadata": {},
   "outputs": [],
   "source": [
    "output"
   ]
  },
  {
   "cell_type": "code",
   "execution_count": null,
   "metadata": {},
   "outputs": [],
   "source": [
    "print(f\"There are {len(output['response'])} responses.\\n\")\n",
    "for response in output[\"response\"]:\n",
    "    print(response)\n",
    "    print(\"-\" * 50)"
   ]
  },
  {
   "cell_type": "markdown",
   "metadata": {},
   "source": [
    "# Completion Agent"
   ]
  },
  {
   "cell_type": "code",
   "execution_count": null,
   "metadata": {},
   "outputs": [],
   "source": [
    "agent = CompletionAgent(server_config=server_config)\n",
    "response = await agent.run_async(\n",
    "    inputs=[\n",
    "        \"What is your name?\",\n",
    "        \"What do you like to eat?\",\n",
    "        \"What is the capital of the US?\",\n",
    "    ]\n",
    ")\n",
    "output = response.outputs"
   ]
  },
  {
   "cell_type": "code",
   "execution_count": null,
   "metadata": {},
   "outputs": [],
   "source": [
    "output"
   ]
  },
  {
   "cell_type": "code",
   "execution_count": null,
   "metadata": {},
   "outputs": [],
   "source": [
    "print(f\"There are {len(output['response'])} responses.\\n\")\n",
    "for response in output[\"response\"]:\n",
    "    print(response)\n",
    "    print(\"-\" * 50)"
   ]
  }
 ],
 "metadata": {
  "kernelspec": {
   "display_name": "dsma",
   "language": "python",
   "name": "python3"
  },
  "language_info": {
   "codemirror_mode": {
    "name": "ipython",
    "version": 3
   },
   "file_extension": ".py",
   "mimetype": "text/x-python",
   "name": "python",
   "nbconvert_exporter": "python",
   "pygments_lexer": "ipython3",
   "version": "3.11.11"
  }
 },
 "nbformat": 4,
 "nbformat_minor": 2
}
